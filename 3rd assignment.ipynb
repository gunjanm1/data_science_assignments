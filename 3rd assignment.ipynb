{
 "cells": [
  {
   "cell_type": "markdown",
   "id": "ed1809c9-90b2-4280-98cd-e5c5b4f26547",
   "metadata": {},
   "source": [
    "1.What are the characterstics of the tuples? Is tuple immutable?"
   ]
  },
  {
   "cell_type": "markdown",
   "id": "a0c8edf1-4cee-490b-a0c9-b2de0b47cd7f",
   "metadata": {},
   "source": [
    "\n",
    "\n",
    "Ans: The characteristics of a Python tuple are:\n",
    "\n",
    "    Tuples are ordered, indexed collections of data.\n",
    "    Similar to string indices, the first value in the tuple will have the index [0], the second value [1], and so on.\n",
    "    Tuples can store duplicate values\n",
    "\n",
    "Tuple are immutable, we can't reassign the value/item to tuple index"
   ]
  },
  {
   "cell_type": "markdown",
   "id": "83eee1e7-ad6c-4547-8827-4a73cf59bae1",
   "metadata": {},
   "source": [
    "2.What are the two tuple methods in python? Give an example of each method. Give a reason why tuple have only two in-built methods compared to lists."
   ]
  },
  {
   "cell_type": "markdown",
   "id": "ebe55872-ca78-4812-8954-e868425f31ff",
   "metadata": {},
   "source": [
    "\n",
    "\n",
    "Ans: The tuple has two methods in python:\n",
    "\n",
    "    Index\n",
    "    Count\n",
    "\n"
   ]
  },
  {
   "cell_type": "code",
   "execution_count": 3,
   "id": "6a3c41bd-191a-4d14-8385-e5f71757df1b",
   "metadata": {},
   "outputs": [
    {
     "data": {
      "text/plain": [
       "2"
      ]
     },
     "execution_count": 3,
     "metadata": {},
     "output_type": "execute_result"
    }
   ],
   "source": [
    "# Index Example\n",
    "\n",
    "tuple_1 = (1,5,8,9,True,False,\"Gunjan\",\"Data\",\"Science\",\"Gunjan\")\n",
    "\n",
    "tuple_1.index(8) \n"
   ]
  },
  {
   "cell_type": "code",
   "execution_count": 4,
   "id": "76f5739c-ad0c-457d-8ea3-e03e8443dd68",
   "metadata": {},
   "outputs": [
    {
     "data": {
      "text/plain": [
       "2"
      ]
     },
     "execution_count": 4,
     "metadata": {},
     "output_type": "execute_result"
    }
   ],
   "source": [
    "#count Example\n",
    "tuple_1.count(\"Gunjan\")"
   ]
  },
  {
   "cell_type": "markdown",
   "id": "d66ac381-7d8a-4e99-9f20-e92e6b451de8",
   "metadata": {},
   "source": [
    "3. Which collection datatypes in python do not allow duplicate items? Write a code using a set to remove duplicates from the given list."
   ]
  },
  {
   "cell_type": "markdown",
   "id": "2db0aedc-740f-46eb-be73-868aeabc0e58",
   "metadata": {},
   "source": [
    "Sets do not allow duplicate in python."
   ]
  },
  {
   "cell_type": "code",
   "execution_count": 5,
   "id": "73c6f01a-6c3f-4494-902f-2cd6f26fca00",
   "metadata": {},
   "outputs": [
    {
     "name": "stdout",
     "output_type": "stream",
     "text": [
      "{1, 2, 3, 4, 5, 6, 7}\n"
     ]
    }
   ],
   "source": [
    "##list containing duplicate items\n",
    "list_1=[1,2,3,4,5,6,7,7,6,5,4,3,2,1]\n",
    "###sets\n",
    "set_1=set(list_1)\n",
    "print(set_1)"
   ]
  },
  {
   "cell_type": "markdown",
   "id": "eb29ecf2-72e8-451f-9eff-79804bcf1fcc",
   "metadata": {},
   "source": [
    "4. Explain the difference between the union() and update() methods for a set. Give an example of each method."
   ]
  },
  {
   "cell_type": "markdown",
   "id": "caa5ada5-8cdb-4e9e-a80d-9216227c7020",
   "metadata": {},
   "source": [
    "\n",
    "\n",
    "Ans: let us assume two sets : s1 and s2\n",
    "\n",
    "Union() method : s1.union(s2) - return a new set with elements from both s1 and s2.\n",
    "\n",
    "update() method : s1.update(s2) - return set s1 with elements added from s(2)\n",
    "\n",
    "\n",
    "\n"
   ]
  },
  {
   "cell_type": "code",
   "execution_count": 6,
   "id": "2adfeb55-2b61-4f63-95db-8743f7897d0a",
   "metadata": {},
   "outputs": [
    {
     "name": "stdout",
     "output_type": "stream",
     "text": [
      "{'mm', 1, 2, 3, 5, 8}\n",
      "{8, 9, 'gg', 6}\n",
      "{'mm', 1, 2, 3, 'gg', 5, 6, 8, 9}\n"
     ]
    }
   ],
   "source": [
    "# Lets we have two list with following elements.\n",
    "s1 = {\"mm\",1,3,2,5,8}\n",
    "s2 = {\"gg\", 8,9,6}\n",
    "\n",
    "# union()\n",
    "s3 = s1.union(s2)\n",
    "print(s1)\n",
    "print(s2)\n",
    "print(s3)\n",
    "\n",
    "\n"
   ]
  },
  {
   "cell_type": "code",
   "execution_count": 7,
   "id": "61a5d2df-4708-440b-9f5c-5a1960b2c121",
   "metadata": {},
   "outputs": [
    {
     "name": "stdout",
     "output_type": "stream",
     "text": [
      "{'mm', 1, 2, 3, 'gg', 5, 6, 8, 9}\n",
      "{8, 9, 'gg', 6}\n",
      "None\n"
     ]
    }
   ],
   "source": [
    "\n",
    "\n",
    "# update()\n",
    "s3 = s1.update(s2)\n",
    "print(s1)\n",
    "print(s2)\n",
    "print(s3)\n"
   ]
  },
  {
   "cell_type": "markdown",
   "id": "6ae74a00-750f-4f6a-a234-0cbd4ab08e07",
   "metadata": {},
   "source": [
    "5. What is a dictionary? Give an example. Also, state whether a dictionary is ordered or unordered."
   ]
  },
  {
   "cell_type": "markdown",
   "id": "dbfca5d6-915b-456b-9c24-47f1c5e8dbc2",
   "metadata": {},
   "source": [
    "Dictionaries are used to store data values in key:value pairs. A dictionary is a collection which is ordered*, changeable and do not allow duplicates. As of Python version 3.7, dictionaries are ordered. In Python 3.6 and earlier, dictionaries are unordered."
   ]
  },
  {
   "cell_type": "code",
   "execution_count": 10,
   "id": "1b6a127d-b723-425b-920c-2b3f9b76f051",
   "metadata": {},
   "outputs": [
    {
     "name": "stdout",
     "output_type": "stream",
     "text": [
      "data scientist\n"
     ]
    }
   ],
   "source": [
    "\n",
    "\n",
    "# Example\n",
    "dict_1 = {\"couse\":\"data science\",\"duration\":\"6 months\",\"aim\":\"data scientist\"}\n",
    "print(dict_1[\"aim\"])\n",
    "\n",
    "\n"
   ]
  },
  {
   "cell_type": "markdown",
   "id": "262e9e7a-aea9-4b82-bfce-6b3080aac741",
   "metadata": {},
   "source": [
    "6. Can we create a nested dictionary? If so, please give an example by creating a simple one-level nested dictionary."
   ]
  },
  {
   "cell_type": "markdown",
   "id": "d1f1e581-8864-4803-bd0e-d60f2d5a9d00",
   "metadata": {},
   "source": [
    "yes,we can"
   ]
  },
  {
   "cell_type": "code",
   "execution_count": 11,
   "id": "b5be90b1-67a0-4048-a91f-0f496e92477c",
   "metadata": {},
   "outputs": [],
   "source": [
    "dict_1={\"gunjan\":{\"shaurya\",\"son\"},\"love\":\"immense\"}"
   ]
  },
  {
   "cell_type": "code",
   "execution_count": 13,
   "id": "8c61dd97-fe88-4a33-ab9b-75f0fd4d0321",
   "metadata": {},
   "outputs": [
    {
     "data": {
      "text/plain": [
       "{'shaurya', 'son'}"
      ]
     },
     "execution_count": 13,
     "metadata": {},
     "output_type": "execute_result"
    }
   ],
   "source": [
    "dict_1[\"gunjan\"]"
   ]
  },
  {
   "cell_type": "markdown",
   "id": "efb3e8e7-c9e8-4c63-900a-267a19562ea0",
   "metadata": {},
   "source": [
    "7. Using setdefault() method, create key named topics in the given dictionary and also add the value of the key as this list ['Python', 'Machine Learning’, 'Deep Learning']  \n",
    "dict1 = {'language' : 'Python', 'course': 'Data Science Masters'}"
   ]
  },
  {
   "cell_type": "code",
   "execution_count": 14,
   "id": "11fa55fb-2393-460e-b77f-e4f5447dff76",
   "metadata": {},
   "outputs": [
    {
     "name": "stdout",
     "output_type": "stream",
     "text": [
      "{'language': 'Python', 'course': 'Data Science Masters', 'topics': ['Python', 'Machine Learning', 'Deep Learning']}\n"
     ]
    }
   ],
   "source": [
    "dict1 = {'language' : 'Python', 'course': 'Data Science Masters'}\n",
    "dict1.setdefault(\"topics\" , [\"Python\", \"Machine Learning\", \"Deep Learning\"])\n",
    "print(dict1)"
   ]
  },
  {
   "cell_type": "markdown",
   "id": "5ef98427-ada4-4617-a196-7346980969fb",
   "metadata": {},
   "source": [
    "8. What are the three view objects in dictionaries? Use the three in-built methods in python to display these three view objects   for the given dictionary.\n",
    "dict1 = {'Sport': 'Cricket' , 'Teams': ['India', 'Australia', 'England', 'South Africa', 'Sri Lanka', 'New Zealand']}\n",
    "\n",
    "\n",
    "\n"
   ]
  },
  {
   "cell_type": "markdown",
   "id": "69baab47-b7d0-45de-9001-c449087211c0",
   "metadata": {},
   "source": [
    "The main view objects of dictionary in python are keys, values and items. They provide a non-constant view of the dictionary's entries. Keys holds all the keys of the dictionary, the values objects holds all the values, whereas the items holds the key-value pairs\n",
    "\n"
   ]
  },
  {
   "cell_type": "code",
   "execution_count": 17,
   "id": "103d4e0f-6fab-4c71-9f41-1abaaa91820f",
   "metadata": {},
   "outputs": [
    {
     "name": "stdout",
     "output_type": "stream",
     "text": [
      "dict_keys(['Sport', 'Teams'])\n",
      "dict_values(['Cricket', ['India', 'Australia', 'England', 'South Africa', 'Sri Lanka', 'New Zealand']])\n",
      "dict_items([('Sport', 'Cricket'), ('Teams', ['India', 'Australia', 'England', 'South Africa', 'Sri Lanka', 'New Zealand'])])\n"
     ]
    }
   ],
   "source": [
    "dict1 = {'Sport': 'Cricket' , 'Teams': ['India', 'Australia', 'England', 'South Africa', 'Sri Lanka', 'New Zealand']}\n",
    "print(dict1.keys())\n",
    "print(dict1.values())\n",
    "print(dict1.items())"
   ]
  },
  {
   "cell_type": "code",
   "execution_count": null,
   "id": "8cae7b3b-2c61-44c4-877d-839ba2f4f654",
   "metadata": {},
   "outputs": [],
   "source": []
  }
 ],
 "metadata": {
  "kernelspec": {
   "display_name": "Python 3 (ipykernel)",
   "language": "python",
   "name": "python3"
  },
  "language_info": {
   "codemirror_mode": {
    "name": "ipython",
    "version": 3
   },
   "file_extension": ".py",
   "mimetype": "text/x-python",
   "name": "python",
   "nbconvert_exporter": "python",
   "pygments_lexer": "ipython3",
   "version": "3.10.8"
  }
 },
 "nbformat": 4,
 "nbformat_minor": 5
}

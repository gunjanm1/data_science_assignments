{
 "cells": [
  {
   "cell_type": "markdown",
   "id": "433d001a-bb54-4d40-b62c-9efc674cff02",
   "metadata": {},
   "source": [
    "                                Assignment"
   ]
  },
  {
   "cell_type": "markdown",
   "id": "1b3934bf-a679-4f5a-b3b9-c21ae081090c",
   "metadata": {},
   "source": [
    "1. Who developed Python Programming Language?"
   ]
  },
  {
   "cell_type": "markdown",
   "id": "ab4c650d-1f13-40fd-ae19-05630b6f4e61",
   "metadata": {},
   "source": [
    "Ans: Guido van Rossum"
   ]
  },
  {
   "cell_type": "markdown",
   "id": "96b8f9b6-e4fb-4877-9d1d-cec7431a6f40",
   "metadata": {},
   "source": [
    "2. Which type of Programming does Python support?\n",
    " "
   ]
  },
  {
   "cell_type": "markdown",
   "id": "7824d86e-24db-461b-aca4-53997552b149",
   "metadata": {},
   "source": [
    " Ans: Object-Oriented Programming Language "
   ]
  },
  {
   "cell_type": "markdown",
   "id": "d917d282-b797-4e4c-8085-d0411f4d91dd",
   "metadata": {},
   "source": [
    "3. Is Python case sensitive when dealing with identifiers?"
   ]
  },
  {
   "cell_type": "markdown",
   "id": "74b6ea97-4302-4a00-9354-70080bc8eee1",
   "metadata": {},
   "source": [
    "Ans:Yes"
   ]
  },
  {
   "cell_type": "code",
   "execution_count": 6,
   "id": "7332c09f-bb8e-4b82-aec7-9922f03c14e2",
   "metadata": {},
   "outputs": [
    {
     "name": "stdout",
     "output_type": "stream",
     "text": [
      "9\n",
      "5\n"
     ]
    }
   ],
   "source": [
    "x=5\n",
    "X=9\n",
    "print(X)\n",
    "print(x)"
   ]
  },
  {
   "cell_type": "markdown",
   "id": "3cbd6a5a-ba5a-4188-a6d8-a26dcc56a24e",
   "metadata": {},
   "source": [
    "4. What is the correct extension of the Python file?"
   ]
  },
  {
   "cell_type": "markdown",
   "id": "49408cde-387d-46ce-b5a6-fcb3246e9c80",
   "metadata": {},
   "source": [
    "Ans: .py"
   ]
  },
  {
   "cell_type": "markdown",
   "id": "6d9b8bc5-1b8e-4669-b8ba-a0942295fb00",
   "metadata": {},
   "source": [
    "5.Is Python code compiled or interpreted?"
   ]
  },
  {
   "cell_type": "markdown",
   "id": "9cb47aed-185c-4d51-8168-cfcaef749020",
   "metadata": {},
   "source": [
    "Ans: interpreted"
   ]
  },
  {
   "cell_type": "markdown",
   "id": "168d069b-3b2c-4eeb-b618-6251e188410a",
   "metadata": {},
   "source": [
    "6. Name a few blocks of code used to define in Python language?"
   ]
  },
  {
   "cell_type": "markdown",
   "id": "40804834-c0ed-4618-acac-fb7570ba29d3",
   "metadata": {},
   "source": [
    "Ans:Indendation is used to define a code block in python"
   ]
  },
  {
   "cell_type": "code",
   "execution_count": 7,
   "id": "1e3f2755-475e-425a-9092-2a0cf2b3f22e",
   "metadata": {},
   "outputs": [
    {
     "name": "stdout",
     "output_type": "stream",
     "text": [
      "1\n",
      "4\n",
      "9\n",
      "16\n",
      "25\n"
     ]
    }
   ],
   "source": [
    "l=[1,2,3,4,5]\n",
    "for i in l:\n",
    "    i=i**2\n",
    "    print(i)  "
   ]
  },
  {
   "cell_type": "markdown",
   "id": "b2c8aca4-3215-40bf-934c-6ce93bbb20e3",
   "metadata": {},
   "source": [
    "7. State a character used to give single-line comments in Python?"
   ]
  },
  {
   "cell_type": "markdown",
   "id": "44989fac-3170-4efe-a991-90948cb0a1ef",
   "metadata": {},
   "source": [
    "Ans: # symbol"
   ]
  },
  {
   "cell_type": "markdown",
   "id": "e8b2d36f-14f3-41a0-890d-31350dae12a6",
   "metadata": {},
   "source": [
    "8. Menton functions which can help us to find the version of python that we are currently working on?"
   ]
  },
  {
   "cell_type": "markdown",
   "id": "d6bc57ba-f302-4bf8-882c-27ccb18c8403",
   "metadata": {},
   "source": [
    "Ans:In cmd:python--version"
   ]
  },
  {
   "cell_type": "code",
   "execution_count": 9,
   "id": "56a18e72-116c-41a7-9425-def275339aef",
   "metadata": {},
   "outputs": [
    {
     "name": "stdout",
     "output_type": "stream",
     "text": [
      "3.10.8 | packaged by conda-forge | (main, Nov 22 2022, 08:26:04) [GCC 10.4.0]\n"
     ]
    }
   ],
   "source": [
    "\n",
    "#using script\n",
    "import sys\n",
    "print(sys.version)"
   ]
  },
  {
   "cell_type": "markdown",
   "id": "2684e91e-7130-4e32-b300-5d130de45321",
   "metadata": {},
   "source": [
    "9.Python supports the creation of anonyous function at runtime, using a construct called_"
   ]
  },
  {
   "cell_type": "markdown",
   "id": "60b67601-d58c-4f7a-ad7f-8ad13e5ff5d5",
   "metadata": {},
   "source": [
    "Ans:lambda"
   ]
  },
  {
   "cell_type": "markdown",
   "id": "8a797d1a-f2ca-4969-a729-5c6017e6969c",
   "metadata": {},
   "source": [
    "\n",
    "10. What doest pip stand for in Python?"
   ]
  },
  {
   "cell_type": "markdown",
   "id": "db4e1942-bbb5-49b1-854f-b25cb5fd33ec",
   "metadata": {},
   "source": [
    "Ans: PIP is a package manager for Python package . It is used to manage(Install, Uninstall, Update, etc) additional packages that are not part of the Python standard library."
   ]
  },
  {
   "cell_type": "markdown",
   "id": "5974795c-5d4e-4c9b-b6f4-0e62b0463832",
   "metadata": {},
   "source": [
    "11. Mention a few built in functions in Pythons?\n"
   ]
  },
  {
   "cell_type": "markdown",
   "id": "179e729a-ac63-4d4b-9f8f-4db54feca5db",
   "metadata": {},
   "source": [
    "Ans: len(), input(), range(), list(), int(),float(), max(), min()"
   ]
  },
  {
   "cell_type": "markdown",
   "id": "a5dd2d1b-b11a-45be-90d7-156ff1aae02a",
   "metadata": {},
   "source": [
    "12. What is the maximum possible length of an identifier in Python?"
   ]
  },
  {
   "cell_type": "markdown",
   "id": "0245019d-5b69-4267-ad12-e20034493061",
   "metadata": {},
   "source": [
    "Ans: 79 characters"
   ]
  },
  {
   "cell_type": "markdown",
   "id": "17f16972-c342-4b2d-bd25-dc5839449c2c",
   "metadata": {},
   "source": [
    "13. What are the benefits of using Python?"
   ]
  },
  {
   "cell_type": "markdown",
   "id": "f73ffe08-59c1-406a-9e4b-0005370272c2",
   "metadata": {},
   "source": [
    "Ans:  The advantages of python are:\n",
    "* Easy to Read, Learn and Write\n",
    "* Interpreted Language\n",
    "* Free and Open source\n",
    "* Dynamically typed\n",
    "* Vast Library support"
   ]
  },
  {
   "cell_type": "markdown",
   "id": "5cc86f74-815d-4bf7-9c2f-84311e03007e",
   "metadata": {},
   "source": [
    "14. How is memory managed in Python?"
   ]
  },
  {
   "cell_type": "markdown",
   "id": "56b27c6b-07a4-44c2-bd9d-bb25b4ac6c8c",
   "metadata": {},
   "source": [
    "Ans: Memory in Python is managed by Python private heap space. All Python objects and data structures are located in a private heap. This private heap is taken care of by Python Interpreter itself, and a programmer doesn't have access to this private heap"
   ]
  },
  {
   "cell_type": "markdown",
   "id": "41faba11-fab1-41aa-a6c2-46b325016e71",
   "metadata": {},
   "source": [
    "14. How to install python on windows and set path variables?"
   ]
  },
  {
   "cell_type": "markdown",
   "id": "63fd6d56-e740-4a57-b411-bad78f77eadc",
   "metadata": {},
   "source": [
    "Ans: Python can be downloaded from python.org and installed.\n",
    "The complete path of python.exe can be added by:\n",
    "* Right-clicking This PC and going to Properties.\n",
    "* Clicking on the Advanced system settings in the menu on the left.\n",
    "* Clicking on the Environment Variables button o​n the bottom right.\n",
    "* In the System variables section, selecting the Path variable and clicking on Edit. The next screen will show all the directories that are currently a part of the PATH variable.\n",
    "* Clicking on New and entering Python’s install directory."
   ]
  }
 ],
 "metadata": {
  "kernelspec": {
   "display_name": "Python 3 (ipykernel)",
   "language": "python",
   "name": "python3"
  },
  "language_info": {
   "codemirror_mode": {
    "name": "ipython",
    "version": 3
   },
   "file_extension": ".py",
   "mimetype": "text/x-python",
   "name": "python",
   "nbconvert_exporter": "python",
   "pygments_lexer": "ipython3",
   "version": "3.10.8"
  }
 },
 "nbformat": 4,
 "nbformat_minor": 5
}

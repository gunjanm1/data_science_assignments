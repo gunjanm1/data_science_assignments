{
 "cells": [
  {
   "cell_type": "markdown",
   "id": "042cedc4-80e8-4af4-90bf-6f7ccd6276b8",
   "metadata": {},
   "source": [
    " 1.Write a program to accept percentage from the user and display the grade according to the following criteria:\n",
    " | Marks | Grade |\n",
    " |--- | --- |\n",
    "| > 90 | A \n",
    "| > 80 and <= 90 | B \n",
    "| >= 60 and <= 80  | C\n",
    "| < 60  | D "
   ]
  },
  {
   "cell_type": "code",
   "execution_count": 1,
   "id": "125ec9cd-eb1b-459d-bd34-3e2f59a7e741",
   "metadata": {},
   "outputs": [
    {
     "name": "stdout",
     "output_type": "stream",
     "text": [
      "Enter the number\n"
     ]
    },
    {
     "name": "stdin",
     "output_type": "stream",
     "text": [
      "None 67\n"
     ]
    },
    {
     "name": "stdout",
     "output_type": "stream",
     "text": [
      "Grade C\n"
     ]
    }
   ],
   "source": [
    "marks=int(input(print(\"Enter the number\")))\n",
    "if marks>90:\n",
    "    print(\"Grade A\")\n",
    "elif 80<marks and marks<=90:\n",
    "    print(\"Grade B\") \n",
    "elif 60<marks and marks<=80:\n",
    "     print(\"Grade C\") \n",
    "else:\n",
    "    print(\"Grade D\") "
   ]
  },
  {
   "cell_type": "markdown",
   "id": "7f51d1d4-d2f1-4fed-b614-9e5c239819a9",
   "metadata": {},
   "source": [
    "2. Write a program to accept cost price of a bike and display the road tax to be paid according to the following criteria:\n",
    "     | Tax | Cost Price(in Rs) |\n",
    "     | --- | --- |\n",
    "     | 15% | > 100000|\n",
    "    | 10% | > 50000 and <= 100000|\n",
    "    | 5% | <= 50000|\n",
    "\t"
   ]
  },
  {
   "cell_type": "code",
   "execution_count": 9,
   "id": "81e30d57-cfae-4c83-b27a-5325addf260b",
   "metadata": {},
   "outputs": [
    {
     "name": "stdout",
     "output_type": "stream",
     "text": [
      "Cost price of Bike\n"
     ]
    },
    {
     "name": "stdin",
     "output_type": "stream",
     "text": [
      "None 7890\n"
     ]
    },
    {
     "name": "stdout",
     "output_type": "stream",
     "text": [
      "tax :3945.0\n"
     ]
    }
   ],
   "source": [
    "cost_price=int(input(print(\"Cost price of Bike\")))\n",
    "if cost_price>100000:\n",
    "    print(f\" tax:{cost_price*0.15}\")\n",
    "elif 50000<cost_price and marks<=100000:\n",
    "    print(f\"tax: {cost_price*0.10}\") \n",
    "elif  cost_price<=50000:\n",
    "     print(f\"tax :{cost_price*0.5}\") "
   ]
  },
  {
   "cell_type": "markdown",
   "id": "c0ab6301-fa94-4490-8ebc-794e7c3f5dcd",
   "metadata": {},
   "source": [
    "3. Accept any city from the user and display monuments of that city:\n",
    "\n",
    "    | City | Monument |\n",
    "     | --- | --- |\n",
    "     | Delhi |Red Fort |\n",
    "     | Agra |Taj Mahal |\n",
    "     | Jaipur |Jal Mahal|"
   ]
  },
  {
   "cell_type": "code",
   "execution_count": 10,
   "id": "3afded2a-07d6-4c8f-bb53-56e3212575e8",
   "metadata": {},
   "outputs": [
    {
     "name": "stdout",
     "output_type": "stream",
     "text": [
      " Select a city from below list: \n",
      " Delhi , Agra, Jaipur \n",
      " City: \n"
     ]
    },
    {
     "name": "stdin",
     "output_type": "stream",
     "text": [
      "None Agra\n"
     ]
    },
    {
     "name": "stdout",
     "output_type": "stream",
     "text": [
      "The famous monument in Agra is Red Fort.\n"
     ]
    }
   ],
   "source": [
    "city = (input(print(''' Select a city from below list: \n",
    " Delhi , Agra, Jaipur \n",
    " City: ''')))\n",
    "\n",
    "if city == \"Delhi\":\n",
    "    print(f\"The famous monument in {city} is Red Fort.\")\n",
    "elif city == \"Agra\":\n",
    "    print(f\"The famous monument in {city} is Red Fort.\")\n",
    "elif city == \"Jaipur\":\n",
    "    print(f\"The famous monument in {city} is Red Fort.\")\n",
    "else:\n",
    "    print(\"Enter City name from the above list.\")"
   ]
  },
  {
   "cell_type": "markdown",
   "id": "466918b6-7dd2-4f17-8157-9549e9e773f9",
   "metadata": {},
   "source": [
    "4. Check how many times a given number can be divided by 3 before it is less than or equal to 10."
   ]
  },
  {
   "cell_type": "code",
   "execution_count": 11,
   "id": "ac43be60-9c07-4fb2-a779-b41ae10f197f",
   "metadata": {},
   "outputs": [
    {
     "name": "stdout",
     "output_type": "stream",
     "text": [
      "enter the number\n"
     ]
    },
    {
     "name": "stdin",
     "output_type": "stream",
     "text": [
      "None 67\n"
     ]
    },
    {
     "name": "stdout",
     "output_type": "stream",
     "text": [
      "number can be divide by  3 before it is less than or equal to 10 is 2 times\n"
     ]
    }
   ],
   "source": [
    "\n",
    "number=int(input(print(\"enter the number\")))\n",
    "count=0\n",
    "while number >10 :\n",
    "    number=number/3\n",
    "    count=count+1\n",
    "print(f\"number can be divide by  3 before it is less than or equal to 10 is {count} times\")"
   ]
  },
  {
   "cell_type": "markdown",
   "id": "95d39365-8c6a-40f4-a4be-4cd51872d5dc",
   "metadata": {},
   "source": [
    "5.Why and When to use while loop in python. Give a detailed description with example."
   ]
  },
  {
   "cell_type": "markdown",
   "id": "62ae0c7c-dcc2-44f8-b581-af34c7f0423b",
   "metadata": {},
   "source": [
    "Ans: A \"While\" Loop is used to repeat a specific block until a condition is met. It is used when number of iteration are unknown. Example:Print i as long as i is less than 6"
   ]
  },
  {
   "cell_type": "code",
   "execution_count": 12,
   "id": "dfc08081-8719-4054-b602-b8258d392ab9",
   "metadata": {},
   "outputs": [
    {
     "name": "stdout",
     "output_type": "stream",
     "text": [
      "0\n",
      "1\n",
      "2\n",
      "3\n",
      "4\n",
      "5\n"
     ]
    }
   ],
   "source": [
    "i=0\n",
    "while i<6:\n",
    "    print (i)\n",
    "    i=i+1"
   ]
  },
  {
   "cell_type": "markdown",
   "id": "50602ef7-5a75-466a-819e-1ee20c5892c8",
   "metadata": {},
   "source": [
    " 6.Use nested while loop to print 3 different pattern."
   ]
  },
  {
   "cell_type": "code",
   "execution_count": 26,
   "id": "6e6d503e-f329-4451-9101-f1e97b655bbe",
   "metadata": {},
   "outputs": [
    {
     "name": "stdout",
     "output_type": "stream",
     "text": [
      "* \n",
      "* * \n",
      "* * * \n",
      "* * * * \n",
      "* * * * * \n"
     ]
    }
   ],
   "source": [
    "# Pattern 1\n",
    "\n",
    "count = 5\n",
    "i = 1\n",
    "while i <= count:\n",
    "    t=1\n",
    "    while t<=i:\n",
    "        print(\"*\", end = \" \")\n",
    "        t=t+1\n",
    "    i=i+1\n",
    "    print(\"\")\n",
    "    "
   ]
  },
  {
   "cell_type": "code",
   "execution_count": null,
   "id": "c571ae30-d1d5-4663-9d02-8ce8f5842950",
   "metadata": {},
   "outputs": [],
   "source": [
    "# Pattern 2\n",
    "\n",
    "    \n",
    "    \n",
    "    count = 5\n",
    "\n",
    "while count > 0:\n",
    "    iteration = count\n",
    "    while iteration > 0:\n",
    "        print(\"*\", end = \" \")\n",
    "        iteration -= 1\n",
    "    count -= 1\n",
    "    print(\"\")\n",
    "\n",
    "\n",
    "print(\"\")"
   ]
  },
  {
   "cell_type": "code",
   "execution_count": null,
   "id": "323f1944-501d-487f-91c6-30b98894252b",
   "metadata": {},
   "outputs": [],
   "source": [
    "rows = int(input(\"Enter the number of rows: \"))  \n",
    "# Outer loop will print number of rows  \n",
    "for i in range(rows+1):  \n",
    "    # Inner loop will print the value of i after each iteration  \n",
    "    for j in range(i):  \n",
    "        print(i, end=\" \")  # print number  \n",
    "    # line after each row to display pattern correctly  \n",
    "    print(\" \") "
   ]
  },
  {
   "cell_type": "markdown",
   "id": "a7f63dac-ee45-45da-8f4a-5c7aeed71c9e",
   "metadata": {},
   "source": [
    "7. Reverse a while loop to display number from 10 to 1."
   ]
  },
  {
   "cell_type": "code",
   "execution_count": null,
   "id": "d1b077c7-80ba-4186-8c60-6b97b0ff85d2",
   "metadata": {},
   "outputs": [],
   "source": [
    "i = 10\n",
    "while i >= 1:\n",
    "    print(i)\n",
    "    i -= 1"
   ]
  },
  {
   "cell_type": "code",
   "execution_count": null,
   "id": "32fcd7e0-20e3-463e-a43d-8fbdf45d533d",
   "metadata": {},
   "outputs": [],
   "source": []
  }
 ],
 "metadata": {
  "kernelspec": {
   "display_name": "Python 3 (ipykernel)",
   "language": "python",
   "name": "python3"
  },
  "language_info": {
   "codemirror_mode": {
    "name": "ipython",
    "version": 3
   },
   "file_extension": ".py",
   "mimetype": "text/x-python",
   "name": "python",
   "nbconvert_exporter": "python",
   "pygments_lexer": "ipython3",
   "version": "3.10.8"
  }
 },
 "nbformat": 4,
 "nbformat_minor": 5
}
